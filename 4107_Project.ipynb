{
 "cells": [
  {
   "cell_type": "code",
   "execution_count": 2,
   "metadata": {},
   "outputs": [],
   "source": [
    "from tensorflow import keras\n",
    "import tensorflow as tf\n",
    "import matplotlib.pyplot as plt\n",
    "import numpy as np\n",
    "import face_recognition\n",
    "import cv2 as cv\n",
    "import os\n",
    "from PIL import Image"
   ]
  },
  {
   "cell_type": "code",
   "execution_count": null,
   "metadata": {},
   "outputs": [],
   "source": [
    "x_path = \"testing/X\"\n",
    "y_path = \"testing/Y\""
   ]
  },
  {
   "cell_type": "code",
   "execution_count": null,
   "metadata": {},
   "outputs": [],
   "source": [
    "def read_data(x_path, y_path):\n",
    "    X = []\n",
    "    Y = []\n",
    "    \n",
    "    with os.scandir(x_path) as entries:\n",
    "        for entry in entries:\n",
    "            X.append(keras.preprocessing.image.img_to_array(\n",
    "                keras.preprocessing.image.load_img(\n",
    "                    os.path.join(x_path, entry.name)\n",
    "            ))/255.0)\n",
    "            Y.append(keras.preprocessing.image.img_to_array(\n",
    "                keras.preprocessing.image.load_img(\n",
    "                    os.path.join(y_path, entry.name)\n",
    "            ))/255.0)\n",
    "        \n",
    "    return np.array(X), np.array(Y)"
   ]
  },
  {
   "cell_type": "code",
   "execution_count": null,
   "metadata": {},
   "outputs": [],
   "source": [
    "picture_names = os.listdir(os.path.join(os.getcwd(), \"testing\", \"X\"))"
   ]
  },
  {
   "cell_type": "code",
   "execution_count": null,
   "metadata": {},
   "outputs": [],
   "source": [
    "X, Y = read_data(x_path, y_path)\n",
    "X_test, Y_test = X, Y"
   ]
  },
  {
   "cell_type": "code",
   "execution_count": null,
   "metadata": {},
   "outputs": [],
   "source": [
    "print(X_test.shape)\n",
    "print(Y_test.shape)"
   ]
  },
  {
   "cell_type": "code",
   "execution_count": null,
   "metadata": {},
   "outputs": [],
   "source": [
    "def face_embedding_compare(x, y):\n",
    "    image_x = cv.imread(x)\n",
    "    rgb_x = cv.cvtColor(image_x, cv.COLOR_BGR2RGB)\n",
    "    image_y = cv.imread(y)\n",
    "    rgb_y = cv.cvtColor(image_y, cv.COLOR_BGR2RGB)\n",
    "    boxes_x = face_recognition.face_locations(rgb_x, model=\"hog\")\n",
    "    boxes_y = face_recognition.face_locations(rgb_y, model=\"hog\")\n",
    "    if boxes_x == []:\n",
    "        return \"could not identify face\"\n",
    "    encoding_x = face_recognition.face_encodings(rgb_x, boxes_x)\n",
    "    encoding_y = face_recognition.face_encodings(rgb_y, boxes_y)\n",
    "    np_x = np.asarray(encoding_x)\n",
    "    np_y = np.asarray(encoding_y)\n",
    "    euc_dis = np.linalg.norm(np_x - np_y, ord=2)\n",
    "    return f\"{euc_dis}\""
   ]
  },
  {
   "cell_type": "code",
   "execution_count": null,
   "metadata": {},
   "outputs": [],
   "source": [
    "model = keras.models.load_model(\"network/model.tf\", compile=False)"
   ]
  },
  {
   "cell_type": "code",
   "execution_count": null,
   "metadata": {},
   "outputs": [],
   "source": [
    "t = model.predict(X_test)"
   ]
  },
  {
   "cell_type": "code",
   "execution_count": null,
   "metadata": {
    "scrolled": false
   },
   "outputs": [],
   "source": [
    "images = len(picture_names)\n",
    "\n",
    "for x in range(images):\n",
    "    fig, (ax1, ax2, ax3) = plt.subplots(1, 3, figsize=(15,15))\n",
    "    ax1.imshow(X_test[x])\n",
    "    ax2.imshow(Y_test[x])\n",
    "    ax3.imshow(t[x])\n",
    "    \n",
    "    name = f\"{picture_names[x]}\"\n",
    "    locX = f\"testing/X/{name}\"\n",
    "    locY = f\"testing/Y/{name}\"\n",
    "    locfX = f\"testing/fX/{name}\"\n",
    "    \n",
    "    array = t[x] * 255\n",
    "    array = array.astype(\"uint8\")\n",
    "    im = Image.fromarray(array)\n",
    "    im.save(locfX)\n",
    "    \n",
    "    x = face_embedding_compare(locX, locY)\n",
    "    fx = face_embedding_compare(locfX, locY)\n",
    "\n",
    "    ax2.set(title=name)\n",
    "    ax1.set(xlabel=x)\n",
    "    ax2.set(xlabel='0')\n",
    "    ax3.set(xlabel=fx)\n",
    "\n",
    "    plt.show()"
   ]
  }
 ],
 "metadata": {
  "kernelspec": {
   "display_name": "Python 3",
   "language": "python",
   "name": "python3"
  },
  "language_info": {
   "codemirror_mode": {
    "name": "ipython",
    "version": 3
   },
   "file_extension": ".py",
   "mimetype": "text/x-python",
   "name": "python",
   "nbconvert_exporter": "python",
   "pygments_lexer": "ipython3",
   "version": "3.8.5"
  }
 },
 "nbformat": 4,
 "nbformat_minor": 4
}
